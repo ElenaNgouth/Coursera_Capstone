{
 "cells": [
  {
   "cell_type": "markdown",
   "metadata": {},
   "source": [
    "## Analysis of the potential locations for consumer business in Moscow, Russia."
   ]
  },
  {
   "cell_type": "markdown",
   "metadata": {},
   "source": [
    "### 1. Introduction section"
   ]
  },
  {
   "cell_type": "markdown",
   "metadata": {},
   "source": [
    "Search for the most profitable locations to open a new business in Moscow. Where to open a pharmacy or a convinient shop? Where passability and competitive environment are the most profitable?\n",
    "Moscow metro serves an average of 10 million passengers a day. Thus there are certain places what customers passes every day. \n",
    "Using foursquare data we will find out the best places for new customer business startup.\n",
    "This analysis will be interesting for retail business stakeholders."
   ]
  },
  {
   "cell_type": "markdown",
   "metadata": {},
   "source": [
    "### 2. Data section"
   ]
  },
  {
   "cell_type": "markdown",
   "metadata": {},
   "source": [
    "1. Moscow subway stations list with coordinates from wikipedia. https://en.wikipedia.org/wiki/List_of_Moscow_Metro_stations#List_of_active_stations\n",
    "2. Passenger traffic data.\n",
    "3. Foursquare data about existing venues near Moscow subway stations.\n",
    "\n",
    "Subway station coordinates will be downloaded, correlated with passenger traffic data. Then exicting venues will be analysed.\n",
    "Clasterisation will be provided for subway station using its nearby venues."
   ]
  },
  {
   "cell_type": "code",
   "execution_count": null,
   "metadata": {},
   "outputs": [],
   "source": []
  }
 ],
 "metadata": {
  "kernelspec": {
   "display_name": "Python 3",
   "language": "python",
   "name": "python3"
  },
  "language_info": {
   "codemirror_mode": {
    "name": "ipython",
    "version": 3
   },
   "file_extension": ".py",
   "mimetype": "text/x-python",
   "name": "python",
   "nbconvert_exporter": "python",
   "pygments_lexer": "ipython3",
   "version": "3.7.1"
  }
 },
 "nbformat": 4,
 "nbformat_minor": 2
}
